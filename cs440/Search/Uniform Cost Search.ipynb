{
 "cells": [
  {
   "cell_type": "markdown",
   "metadata": {},
   "source": [
    "# Uniform Cost Search\n",
    "\n",
    "- Base the search on the distance so far;\n",
    "- Frontier stored as a priority queue where the key is the distance so far\n",
    "- BFS only finds the best path if all edges have the same cost;\n",
    "- **Uniform cost search finds the best path**;\n",
    "- Uniform cost search **works if edge costs are well behaved**:\n",
    "    - All positive;\n",
    "    - All edge costs are >= b (some positive minimum lengths);\n",
    "    \n",
    "## Implementation\n",
    "\n",
    "```\n",
    "g(s) = distance so far\n",
    "\n",
    "frontier priority queue:\n",
    "    based on g(s)\n",
    "    \n",
    "if we return to a state s:\n",
    "    update distance g(s)\n",
    "```\n",
    "\n",
    "1. Expand best state (state with the lowest cost so far) on frontier:\n",
    "    - Use priority queue;\n",
    "2. Stop when goal is at the top of the priority queue;\n",
    "3. When return to a state, via better route, update the route distance;"
   ]
  }
 ],
 "metadata": {
  "kernelspec": {
   "display_name": "Python 3",
   "language": "python",
   "name": "python3"
  },
  "language_info": {
   "codemirror_mode": {
    "name": "ipython",
    "version": 3
   },
   "file_extension": ".py",
   "mimetype": "text/x-python",
   "name": "python",
   "nbconvert_exporter": "python",
   "pygments_lexer": "ipython3",
   "version": "3.7.4"
  }
 },
 "nbformat": 4,
 "nbformat_minor": 2
}
