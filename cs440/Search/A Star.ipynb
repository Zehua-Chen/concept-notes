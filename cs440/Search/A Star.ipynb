{
 "cells": [
  {
   "cell_type": "markdown",
   "metadata": {},
   "source": [
    "# A*\n",
    "\n",
    "```\n",
    "f(s) = g(s) + h(s)\n",
    "g(s) = cost so far\n",
    "h(s) = guess at cost remains to reach goal \"heuristic\"\n",
    "```\n",
    "\n",
    "- Implementation is same as Uniform Cost Search, **except `g(s)` is replaced with `f(s)`** to order the priority queue\n",
    "- `h(s)` needs ot be \n",
    "    - Fast to compute\n",
    "    - Underestimate, aka **admissible heuristic** (lower bond), ex. take straight line\n",
    "    - As large as possible without overestimating\n",
    "- Simplfy problems:\n",
    "    - Remove walls\n",
    "    - Straighten out the roads\n",
    "    - Manhatten distance: $\\left| \\Delta x \\right| + \\left| \\Delta y \\right|$; (**this is a better solution when we can't move diagnally; if we can this is no longer an underestimate**)\n",
    "    \n",
    "### Heuristic for IS Puzzle (Drag Puzzle Demoed in Class)\n",
    "\n",
    "- How many not in correct position\n",
    "- How far does each piece has to move? (Manhattan distance)\n",
    "\n",
    "### Why Admissible?\n",
    "\n",
    "- Let $ c $ be the cost of the solution, $ c' $ be an estimated cost of a state, $ s' $ be a non-solution state\n",
    "- Get optimal solution (shortest path)\n",
    "- Don't return solution until its at the front of hte priority queue (inherited from uniform cost search);\n",
    "    - $ c' \\le $ true cost for $ s' $\n",
    "    - $ c $ at front $ c \\le c' $\n",
    "    - $ c \\le $ true cost for any $ s' $ in priority queue\n",
    "    \n",
    "### A* vs Uniform Cost\n",
    "\n",
    "- UCS: updates to distances all involve state on frontier;\n",
    "- A*: updates may invovle closed states\n",
    "\n",
    "### Workarounds\n",
    "- If we read a seen state via better path , update s even if s is done. Pus s back into the frontier\n",
    "- Will priority queue get me update costs for X?\n",
    "    - Workaround: put x into queue a second time with the new cost\n",
    "    \n",
    "### Admissible\n",
    "- Admissible: A* will connct btter;\n",
    "- Constructor:  A return optimal path, a lot fancy boundaries;\n",
    "- A* reduces optimal path with last boundaries\n",
    "\n",
    "### Consistant\n",
    "\n",
    "Many common heuristics are consistant . e.g. straing line in 2d geometry of his consistent, updates are only to states in frontiers. UCS in A* with (ha) = 0, h (s) is consistent.\n",
    "\n",
    "### A* Variants\n",
    "\n",
    "- **Beam search**: like A* but only keeps best k in the frontier;\n",
    "    - Consunptino of extensive resources\n",
    "- **Suboptimal**: hueristic, \n",
    "- **Dataase** just look at 4 swquares,"
   ]
  }
 ],
 "metadata": {
  "kernelspec": {
   "display_name": "Python 3",
   "language": "python",
   "name": "python3"
  },
  "language_info": {
   "codemirror_mode": {
    "name": "ipython",
    "version": 3
   },
   "file_extension": ".py",
   "mimetype": "text/x-python",
   "name": "python",
   "nbconvert_exporter": "python",
   "pygments_lexer": "ipython3",
   "version": "3.7.4"
  }
 },
 "nbformat": 4,
 "nbformat_minor": 2
}
