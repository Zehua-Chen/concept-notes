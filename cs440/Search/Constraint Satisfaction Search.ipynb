{
 "cells": [
  {
   "cell_type": "markdown",
   "metadata": {},
   "source": [
    "# Constraint Satisfaction Search\n",
    "\n",
    "## n queues\n",
    "\n",
    "- Given n x n board and n queens, place so that no queen threathens others\n",
    "- **Approach**: each col is a variable; variable values are rows (*domains*); exactly one queen per column\n",
    "    - Constraints are interactions between values for different variables\n",
    "    \n",
    "### Map Coloring\n",
    "\n",
    "- Have k colors\n",
    "- Color each sate\n",
    "- Adjacent states must have different colors\n",
    "- 4 color theorem\n",
    "\n",
    "### NP Complete Problem\n",
    "\n",
    "Best known algorithm is exponential, but we can't prove there isn' a polynomial algorithm. In practice,"
   ]
  }
 ],
 "metadata": {
  "kernelspec": {
   "display_name": "Python 3",
   "language": "python",
   "name": "python3"
  },
  "language_info": {
   "codemirror_mode": {
    "name": "ipython",
    "version": 3
   },
   "file_extension": ".py",
   "mimetype": "text/x-python",
   "name": "python",
   "nbconvert_exporter": "python",
   "pygments_lexer": "ipython3",
   "version": "3.7.4"
  }
 },
 "nbformat": 4,
 "nbformat_minor": 2
}
