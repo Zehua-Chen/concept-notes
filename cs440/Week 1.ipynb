{
 "cells": [
  {
   "cell_type": "markdown",
   "metadata": {},
   "source": [
    "# Week 1"
   ]
  },
  {
   "cell_type": "markdown",
   "metadata": {},
   "source": [
    "## Aug 26"
   ]
  },
  {
   "cell_type": "markdown",
   "metadata": {},
   "source": [
    "### Models\n",
    "- **smart** discrete models;\n",
    "- **blind** statistical models;"
   ]
  },
  {
   "cell_type": "markdown",
   "metadata": {},
   "source": [
    "## Aug 28"
   ]
  },
  {
   "cell_type": "markdown",
   "metadata": {},
   "source": [
    "### State Diagram (Mostly Graphs)\n",
    "\n",
    "#### Components\n",
    "- **Actions** connection between states;\n",
    "    - Action can have costs;\n",
    "\n",
    "##### States\n",
    "- There should be a start state and a goal state;\n",
    "- States can be built on-demand (speech recognizer);\n",
    "- State content:\n",
    "    - Cost so far;\n",
    "    - Informed search only: estimate cost of the remaining search;\n",
    "- Types of states:\n",
    "    - Not yet seen;\n",
    "    - Frontier: seen, but not looked at neighbor;\n",
    "    - Done;\n",
    "\n",
    "#### Characteristics\n",
    "- Loops\n",
    "- Large state space (get lost)\n",
    "- Large number of alternatives (get lost)\n",
    "- Can't see \"the entire world\"\n",
    "\n",
    "#### Search\n",
    "```\n",
    "Loop until solution found:\n",
    "    take state of frontier\n",
    "    find neighbors\n",
    "    push unseen neighbors unto frontier\n",
    "```\n",
    "\n",
    "##### BFS\n",
    "\n",
    "- BFS goes out in circle, gives a reasonably short solution (not always the optimal one);\n",
    "- If all actions have the same cost, BFS gives you optimal path;\n",
    "- Memory heavy\n",
    "    - Lots of frontiers\n",
    "    \n",
    "##### DFS\n",
    "\n",
    "- Implemented using stack;\n",
    "- Can go straight off the goal (**get lost**);\n",
    "- Can be very efficient (small frontier);\n",
    "- Does redundant work;\n",
    "- **Iterative Deepening**\n",
    "\n",
    "```\n",
    "for i from 1 to infty:\n",
    "    do DFS with bond i\n",
    "```"
   ]
  }
 ],
 "metadata": {
  "kernelspec": {
   "display_name": "Python 3",
   "language": "python",
   "name": "python3"
  },
  "language_info": {
   "codemirror_mode": {
    "name": "ipython",
    "version": 3
   },
   "file_extension": ".py",
   "mimetype": "text/x-python",
   "name": "python",
   "nbconvert_exporter": "python",
   "pygments_lexer": "ipython3",
   "version": "3.7.4"
  }
 },
 "nbformat": 4,
 "nbformat_minor": 2
}
