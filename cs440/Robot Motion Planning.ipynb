{
 "cells": [
  {
   "cell_type": "markdown",
   "metadata": {},
   "source": [
    "# High Level Questions\n",
    "\n",
    "- Whether it moves?\n",
    "- How does it move?\n",
    "    - wheels\n",
    "    - legs (can trip)\n",
    "    - snake like motion\n",
    "    - rollings\n",
    "    - propellers (in water, drones)\n",
    "    - float in space\n",
    "- Battery (heavy)\n",
    "    - To carry a heavy battery, you need a heavy battery\n",
    "- Safety vs. features\n",
    "\n",
    "## Typical Components\n",
    "\n",
    "- Wheels and legs\n",
    "- Arms, grippers\n",
    "- **Sensors**:\n",
    "    - Bump stickers\n",
    "    - Stereo Camera\n",
    "    - Whiskers\n",
    "    - Infra Red / Sensors\n",
    "    - GPS\n",
    "- Battery\n",
    "- Mottor\n",
    "- Brains\n",
    "    - Onboard \n",
    "    - Offboard (with radio or internet)\n",
    "    \n",
    "## Environment\n",
    "\n",
    "- Complexity\n",
    "- Stable\n",
    "    - Random environment\n",
    "    - Other agents\n",
    "    - Obstacles\n",
    "- Orientation of surfaces\n",
    "\n",
    "### Coordination\n",
    "\n",
    "- Real-world x/y space\n",
    "- **Configuraiton space**: space of all positions of the robot\n",
    "    - Ex. arm robot, configuration space isall hte joint angle positions\n",
    "- Sometimes, there are more than one solution to reach one position"
   ]
  }
 ],
 "metadata": {
  "kernelspec": {
   "display_name": "Python 3",
   "language": "python",
   "name": "python3"
  },
  "language_info": {
   "codemirror_mode": {
    "name": "ipython",
    "version": 3
   },
   "file_extension": ".py",
   "mimetype": "text/x-python",
   "name": "python",
   "nbconvert_exporter": "python",
   "pygments_lexer": "ipython3",
   "version": "3.7.4"
  }
 },
 "nbformat": 4,
 "nbformat_minor": 2
}
