{
 "cells": [
  {
   "cell_type": "markdown",
   "metadata": {},
   "source": [
    "# Chain Rule\n",
    "\n",
    "$ P(A, B, C) = P(C) \\cdot P(A | C) \\cdot P(B | A, C) $"
   ]
  },
  {
   "cell_type": "markdown",
   "metadata": {},
   "source": [
    "# Independent\n",
    "\n",
    "A, B are indenpendent iff\n",
    "\n",
    "$ P(A, B) = P(A) \\cdot P(B) $ equivocally \n",
    "\n",
    "$ P(A|B) = P(A) $\n",
    "$ P(B|A) = P(B) $"
   ]
  }
 ],
 "metadata": {
  "kernelspec": {
   "display_name": "Python 3",
   "language": "python",
   "name": "python3"
  },
  "language_info": {
   "codemirror_mode": {
    "name": "ipython",
    "version": 3
   },
   "file_extension": ".py",
   "mimetype": "text/x-python",
   "name": "python",
   "nbconvert_exporter": "python",
   "pygments_lexer": "ipython3",
   "version": "3.7.4"
  }
 },
 "nbformat": 4,
 "nbformat_minor": 2
}
