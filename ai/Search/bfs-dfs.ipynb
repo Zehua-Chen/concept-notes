{
 "cells": [
  {
   "cell_type": "markdown",
   "metadata": {},
   "source": [
    "# BFS & DFS\n",
    "\n",
    "## BFS\n",
    "\n",
    "- BFS goes out in circle, gives a reasonably short solution (not always the optimal one);\n",
    "- If all actions have the same cost, BFS gives you optimal path;\n",
    "- Memory heavy\n",
    "    - Lots of frontiers\n",
    "    \n",
    "## DFS\n",
    "\n",
    "- Implemented using stack;\n",
    "- Can go straight off the goal (**get lost**);\n",
    "- Can be very efficient (small frontier);\n",
    "- Does redundant work;\n",
    "- **Iterative Deepening**: depth constraints on DFS\n",
    "\n",
    "```\n",
    "for i from 1 to infty:\n",
    "    do DFS with bond i\n",
    "```"
   ]
  }
 ],
 "metadata": {
  "kernelspec": {
   "display_name": "Python 3",
   "language": "python",
   "name": "python3"
  },
  "language_info": {
   "codemirror_mode": {
    "name": "ipython",
    "version": 3
   },
   "file_extension": ".py",
   "mimetype": "text/x-python",
   "name": "python",
   "nbconvert_exporter": "python",
   "pygments_lexer": "ipython3",
   "version": "3.7.4"
  }
 },
 "nbformat": 4,
 "nbformat_minor": 2
}
