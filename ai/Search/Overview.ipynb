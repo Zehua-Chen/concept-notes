{
 "cells": [
  {
   "cell_type": "markdown",
   "metadata": {},
   "source": [
    "# Models\n",
    "- **smart** discrete models;\n",
    "- **blind** statistical models;"
   ]
  },
  {
   "cell_type": "markdown",
   "metadata": {},
   "source": [
    "# State Diagram (Mostly Graphs)\n",
    "\n",
    "## Components\n",
    "\n",
    "- **Actions** connection between states;\n",
    "    - Action can have costs;\n",
    "\n",
    "### States\n",
    "\n",
    "- There should be a start state and a goal state;\n",
    "- States can be built on-demand (speech recognizer);\n",
    "- State content:\n",
    "    - Cost so far;\n",
    "    - Informed search only: estimate cost of the remaining search;\n",
    "- Types of states:\n",
    "    - Not yet seen;\n",
    "    - **Frontier**: seen, but not looked at neighbor;\n",
    "    - Done;\n",
    "\n",
    "## Characteristics\n",
    "\n",
    "- Loops\n",
    "- Large state space (get lost)\n",
    "- Large number of alternatives (get lost)\n",
    "- Can't see \"the entire world\""
   ]
  },
  {
   "cell_type": "markdown",
   "metadata": {},
   "source": [
    "## Backtrack\n",
    "\n",
    "### Dumb Methods\n",
    "\n",
    "- Go back down to bottom of the tree\n",
    "- Check constraints\n",
    "\n",
    "```\n",
    "Forwarding checkings:\n",
    "add values to varaible x\n",
    "0=\n",
    "```"
   ]
  },
  {
   "cell_type": "markdown",
   "metadata": {},
   "source": [
    "# Edit Distance\n",
    "\n",
    "- Edit distance: how similar a start and a goal is\n"
   ]
  }
 ],
 "metadata": {
  "kernelspec": {
   "display_name": "Python 3",
   "language": "python",
   "name": "python3"
  },
  "language_info": {
   "codemirror_mode": {
    "name": "ipython",
    "version": 3
   },
   "file_extension": ".py",
   "mimetype": "text/x-python",
   "name": "python",
   "nbconvert_exporter": "python",
   "pygments_lexer": "ipython3",
   "version": "3.7.4"
  }
 },
 "nbformat": 4,
 "nbformat_minor": 2
}
