{
 "cells": [
  {
   "cell_type": "markdown",
   "metadata": {},
   "source": [
    "# Models\n",
    "- **smart** discrete models\n",
    "- **blind** statistical models"
   ]
  },
  {
   "cell_type": "markdown",
   "metadata": {},
   "source": [
    "# State Graphs\n",
    "\n",
    "- Most search problems can be represented as a state graph\n",
    "- Most state diagrams are done in graphs\n",
    "- Some state graphs can be very large, therefore we need to be efficient\n",
    "- AI typically only see a small portion of the whole graph at the beginning\n",
    "\n",
    "## State Graph Components\n",
    "\n",
    "- **State**: graph nodes\n",
    "    - There should be a start state and a goal state\n",
    "    - States can be built on-demand (speech recognizer)\n",
    "    - State content:\n",
    "        - Cost so far\n",
    "        - Informed search only: estimate cost of the remaining search\n",
    "    - Types of states:\n",
    "        - Not yet seen\n",
    "        - **Frontier**: seen, but not looked at neighbor\n",
    "        - Done\n",
    "    - Data structure of frontier determines the type of search\n",
    "- **Actions** graph edges with costs\n",
    "- **Start state**\n",
    "- **Goal state** (1 or more than 1)\n",
    "\n",
    "Some application would like a minimum cost path, others want an OK cost\n",
    "\n",
    "## Problems with State Graphs\n",
    "\n",
    "- Loops\n",
    "- Large state space (get lost)\n",
    "- Large number of alternatives (get lost)\n",
    "- Can't see \"the entire world\"\n",
    "\n",
    "## Storing Seen States\n",
    "\n",
    "- If all states are already loaded, we can use a flag to store seen states\n",
    "- Otherwise, different algorithm has different optimization technique"
   ]
  },
  {
   "cell_type": "markdown",
   "metadata": {},
   "source": [
    "## Backtrack\n",
    "\n",
    "### Dumb Methods\n",
    "\n",
    "- Go back down to bottom of the tree\n",
    "- Check constraints\n",
    "\n",
    "```\n",
    "Forwarding checkings:\n",
    "add values to varaible x\n",
    "0=\n",
    "```"
   ]
  },
  {
   "cell_type": "markdown",
   "metadata": {},
   "source": [
    "# Edit Distance\n",
    "\n",
    "- Edit distance: how similar a start and a goal is\n"
   ]
  }
 ],
 "metadata": {
  "kernelspec": {
   "display_name": "Python 3",
   "language": "python",
   "name": "python3"
  },
  "language_info": {
   "codemirror_mode": {
    "name": "ipython",
    "version": 3
   },
   "file_extension": ".py",
   "mimetype": "text/x-python",
   "name": "python",
   "nbconvert_exporter": "python",
   "pygments_lexer": "ipython3",
   "version": "3.7.4"
  }
 },
 "nbformat": 4,
 "nbformat_minor": 2
}
