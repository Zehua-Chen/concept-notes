{
 "cells": [
  {
   "cell_type": "markdown",
   "metadata": {},
   "source": [
    "# BFS\n",
    "\n",
    "Search with frontier done as a queue\n",
    "\n",
    "- BFS goes out in circle, gives an optimal solution when the actions have the same cost\n",
    "- **Memory heavy**:\n",
    "    - Frontier is very larage; grows linearly with distance from the start\n",
    "    - Must **store all seen** states to **avoid looping**"
   ]
  },
  {
   "cell_type": "markdown",
   "metadata": {},
   "source": [
    "# DFS\n",
    "\n",
    "Search with frontier done as a stack\n",
    "\n",
    "- Solution can be less than optimal\n",
    "- Can go straight off the goal (**get lost**)\n",
    "- May not reach goal is state is infinite\n",
    "- Can be very efficient:\n",
    "    - Small frontier\n",
    "\n",
    "## Seen State Optimization\n",
    "\n",
    "- Don't explicitly store states\n",
    "- Check wether we are returning to a state that's on the stack or on the paths leading up to these stacks\n",
    "- This strategy leads to redundant work as the search has poor memory of what it has done"
   ]
  },
  {
   "cell_type": "markdown",
   "metadata": {},
   "source": [
    "# Iterative Deepening\n",
    "\n",
    "- Iterative deepending is a varaint of DFS, but with depth constraint\n",
    "- Search behavior looks like BFS\n",
    "- Each iteration starts from scratch, forgettting all previous works\n",
    "- Uses very little memory\n",
    "\n",
    "```\n",
    "for i from 1 to infty:\n",
    "    do DFS with bond i\n",
    "```"
   ]
  }
 ],
 "metadata": {
  "kernelspec": {
   "display_name": "Python 3",
   "language": "python",
   "name": "python3"
  },
  "language_info": {
   "codemirror_mode": {
    "name": "ipython",
    "version": 3
   },
   "file_extension": ".py",
   "mimetype": "text/x-python",
   "name": "python",
   "nbconvert_exporter": "python",
   "pygments_lexer": "ipython3",
   "version": "3.7.4"
  }
 },
 "nbformat": 4,
 "nbformat_minor": 2
}
