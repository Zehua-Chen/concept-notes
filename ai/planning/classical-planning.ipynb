{
 "cells": [
  {
   "cell_type": "markdown",
   "metadata": {},
   "source": [
    "# Applications\n",
    "\n",
    "- Robot high-level planes\n",
    "- Story generation\n",
    "    - Overall plot control\n",
    "    - Chatbots\n",
    "    - NPC (games); not if we want the NPC to be stupid\n",
    "    - Training\n",
    "    - Randomized plots for games\n",
    "- Understanding stories: produce summaries\n",
    "    - News\n",
    "    - Scripts"
   ]
  },
  {
   "cell_type": "markdown",
   "metadata": {},
   "source": [
    "# Example\n",
    "\n",
    "Given a slice of bread, the goal is to get the slice bread toasted and buttered.\n",
    "\n",
    "1. `Open(breadbag)`\n",
    "2. `Takeout(slice, breadbag)`\n",
    "3. `Put(slice, toaster`\n",
    "4. `Heat(slice, toaster)`\n",
    "5. `TakeOut(slice, toaster)`\n",
    "5. `TakeOut(butter, butterbag)`\n",
    "6. `Spread(butter, bread)`\n",
    "\n",
    "## Pre, Post Conditions\n",
    "\n",
    "Given an action, `Spread(butter, slice)`\n",
    "\n",
    "- Post conditions:\n",
    "    - `Buffered(bread)` is true\n",
    "- Pre conditions:\n",
    "    - Holding slice\n",
    "    - Holding butter"
   ]
  },
  {
   "cell_type": "markdown",
   "metadata": {},
   "source": [
    "# Upgraded Representations\n",
    "\n",
    "## Predicates\n",
    "\n",
    "- **Before**: variables with values (ex. numbers)\n",
    "- **Now**: predicate that take objects as inputs\n",
    "    - `is-open(door)` (predicate): the door is open\n",
    "        - Door can be in a object hierarchy\n",
    "        - Open can only applied to certain types of objects\n",
    "        \n",
    "## Actions\n",
    "\n",
    "- Actions with preconditions and post conditions\n",
    "- Order of actions are only partially constrained\n",
    "- Realistic modeling gets complicated\n",
    "    - Ex. close fridge after opening it\n",
    "- We'd like to use hierarchical approach\n",
    "    - Ex. **major two steps to toast and buffer bread**: toast and butter\n",
    "    \n",
    "### Sussman Anomaly\n",
    "\n",
    "May need to work on several goals separately, independently\n",
    "\n",
    "- Bloch's world: blochs on a table\n",
    "- Start: \n",
    "- Goal: blochs in sorted vertically\n",
    "\n",
    "Try `On(A, B)` first, B, C & A -> B, C, A -> A & B, C (cannot B on C without taking A off)\n",
    "\n",
    "Try `On(B, C)` first, B, C & A -> B & C & A, (cannot put A on B without whole stack off)"
   ]
  },
  {
   "cell_type": "markdown",
   "metadata": {},
   "source": [
    "# Implementations\n",
    "\n",
    "## Situation Space Planning\n",
    "\n",
    "- Each state is a complete model of the world\n",
    "- Actions move state to state\n",
    "\n",
    "### Problems\n",
    "\n",
    "- Huge fan out because of the many possible actions\n",
    "- Not making enough use of the goal\n",
    "- Too specific about the action order\n",
    "    - Dont need to order things until last minute\n",
    "\n",
    "## Plan Space Planing\n",
    "\n",
    "- Each state is part of the plan (some actions partially connected together)\n",
    "- Actions add detail to the partial plan"
   ]
  }
 ],
 "metadata": {
  "kernelspec": {
   "display_name": "Python 3",
   "language": "python",
   "name": "python3"
  },
  "language_info": {
   "codemirror_mode": {
    "name": "ipython",
    "version": 3
   },
   "file_extension": ".py",
   "mimetype": "text/x-python",
   "name": "python",
   "nbconvert_exporter": "python",
   "pygments_lexer": "ipython3",
   "version": "3.7.4"
  }
 },
 "nbformat": 4,
 "nbformat_minor": 2
}
