{
 "cells": [
  {
   "cell_type": "markdown",
   "metadata": {},
   "source": [
    "# Table of Contents\n",
    "- High level questions\n",
    "- State machine\n",
    "- Visibility Diagram\n",
    "- Generalized Voronoi Diagram\n"
   ]
  },
  {
   "cell_type": "markdown",
   "metadata": {},
   "source": [
    "# High Level Questions\n",
    "\n",
    "- Whether it moves?\n",
    "- How does it move?\n",
    "    - wheels\n",
    "    - legs (can trip)\n",
    "    - snake like motion\n",
    "    - rollings\n",
    "    - propellers (in water, drones)\n",
    "    - float in space\n",
    "- Battery (heavy)\n",
    "    - To carry a heavy battery, you need a heavy battery\n",
    "- Safety vs. features\n",
    "\n",
    "## Typical Components\n",
    "\n",
    "- Wheels and legs\n",
    "- Arms, grippers\n",
    "- **Sensors**:\n",
    "    - Bump stickers\n",
    "    - Stereo Camera\n",
    "    - Whiskers\n",
    "    - Infra Red / Sensors\n",
    "    - GPS\n",
    "- Battery\n",
    "- Mottor\n",
    "- Brains\n",
    "    - Onboard \n",
    "    - Offboard (with radio or internet)\n",
    "    \n",
    "## Environment\n",
    "\n",
    "- Complexity\n",
    "- Stable\n",
    "    - Random environment\n",
    "    - Other agents\n",
    "    - Obstacles\n",
    "- Orientation of surfaces\n",
    "\n",
    "### Coordination\n",
    "\n",
    "- Real-world x/y space\n",
    "- **Configuraiton space**: space of all positions of the robot\n",
    "    - Ex. arm robot, configuration space isall hte joint angle positions\n",
    "- Sometimes, there are more than one solution to reach one position\n",
    "\n",
    "## What is a Good Path\n",
    "\n",
    "- Reaches goal\n",
    "- Resonably short\n",
    "- Less obstacles\n",
    "    - Clearance from obstacles\n",
    "- Smooth (sharp paths are hard to do and damaging to the robots)\n"
   ]
  },
  {
   "cell_type": "markdown",
   "metadata": {},
   "source": [
    "# State Machine\n",
    "\n",
    "## State\n",
    "\n",
    "For Polygon in 2D, we need to store the following information in states\n",
    "\n",
    "- (x, y)\n",
    "- orientation\n",
    "\n",
    "Even though the polygons are 2D, the configuration space is 3D.\n",
    "\n",
    "- **Problem**: Configuration space can get very large\n",
    "    - High dimension\n",
    "    - Distinctions doesn't scale well\n",
    "- **Solution**: \n",
    "    - Variable resolution (only know precise locations of obstacles when needed)\n",
    "    - Polygon representations or circles\n",
    "    - Roadmaps (a map composed of big free spaces and connections, like a graph);graph can be searched faster; aka. **visibily graph**"
   ]
  },
  {
   "cell_type": "markdown",
   "metadata": {},
   "source": [
    "# Visibility Diagram\n",
    "\n",
    "- Fast search\n",
    "- Run into edges a lot\n",
    "\n",
    "## Avoid Obstacle Edges\n",
    "\n",
    "- Enlarge the obstacles in the original representation before constructing the graph"
   ]
  },
  {
   "cell_type": "markdown",
   "metadata": {},
   "source": [
    "# Generalized Voronoi Diagram\n",
    "\n",
    "Creating paths that are at the center of the free space\n",
    "\n",
    "- Safe paths\n",
    "- A bit long\n",
    "- Does not work with higher dimensions\n",
    "\n",
    "## Implementation\n",
    "\n",
    "- Create vertical cuts along the map\n",
    "- Use the center point of each vertical line segment (segment created by obstacles)"
   ]
  }
 ],
 "metadata": {
  "kernelspec": {
   "display_name": "Python 3",
   "language": "python",
   "name": "python3"
  },
  "language_info": {
   "codemirror_mode": {
    "name": "ipython",
    "version": 3
   },
   "file_extension": ".py",
   "mimetype": "text/x-python",
   "name": "python",
   "nbconvert_exporter": "python",
   "pygments_lexer": "ipython3",
   "version": "3.7.4"
  }
 },
 "nbformat": 4,
 "nbformat_minor": 2
}
