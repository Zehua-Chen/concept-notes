{
 "cells": [
  {
   "cell_type": "markdown",
   "metadata": {},
   "source": [
    "# Bayes\n",
    "\n",
    "$ P(cause | evidence) = \\frac{P(evidence | cause)}{P(evidence)} P(cause) $\n",
    "\n",
    "- Posterior: $ P(cause | evidence) $\n",
    "- Likelihood: $ P(evidence | cause) $ \n",
    "- Normalization: $ P(evidence) $ \n",
    "- Prior: $ P(cause) $\n",
    "\n",
    "Want to compute posterior from likelihood, normalization and prior (which are easier to obtain than posterior)"
   ]
  },
  {
   "cell_type": "markdown",
   "metadata": {},
   "source": [
    "## Bike Example\n",
    "\n",
    "We saw a teal bike, what brand (standard, veodride) is it? \n",
    "\n",
    "$ P(veo | teal) = \\frac{P(teal | veo) P(veo)}{P(teal)} = 0.905 $\n",
    "\n",
    "$ P(standard | teal) = \\frac{P(teal | standard) P(standard)}{P(teal)} = 0.095 $\n",
    "\n",
    "### Assign Classes\n",
    "\n",
    "$ \\underset{c\\in C_{0}, ..., C_{n}}{\\operatorname{argmax}} P( C_{n} | evidence) $\n",
    "\n",
    "Find the class in which the object most likely belongs to (**maximize posterior**). \n",
    "\n",
    "### Maximum Likelihood Estimate (MLE Estimate)"
   ]
  }
 ],
 "metadata": {
  "kernelspec": {
   "display_name": "Python 3",
   "language": "python",
   "name": "python3"
  },
  "language_info": {
   "codemirror_mode": {
    "name": "ipython",
    "version": 3
   },
   "file_extension": ".py",
   "mimetype": "text/x-python",
   "name": "python",
   "nbconvert_exporter": "python",
   "pygments_lexer": "ipython3",
   "version": "3.7.4"
  }
 },
 "nbformat": 4,
 "nbformat_minor": 2
}
