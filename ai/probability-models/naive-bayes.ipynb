{
 "cells": [
  {
   "cell_type": "markdown",
   "metadata": {},
   "source": [
    "# Early Use\n",
    "\n",
    "## Spam cops (1998)\n",
    "\n",
    "- 4.33% error rate\n",
    "- O(n) parameters\n",
    "- O(n + k)\n",
    "\n",
    "## Fishser Corpus \n",
    "\n",
    "- 16000 transcribed phone conversations\n",
    "- Try to tell gender of speaker from words used (bag of word problem)\n",
    "    - Filler words (ah)\n",
    "    - Function words (at, and)"
   ]
  },
  {
   "cell_type": "markdown",
   "metadata": {},
   "source": [
    "# Naive Bayes\n",
    "\n",
    "$ P(cause | evidence) = \\frac{P(evidence | cause)}{P(evidence)} P(cause) $\n",
    "\n",
    "- Posterior: $ P(cause | evidence) $\n",
    "- Likelihood: $ P(evidence | cause) $ \n",
    "- Normalization: $ P(evidence) $ \n",
    "- Prior: $ P(cause) $\n",
    "\n",
    "Want to compute posterior from likelihood, normalization and prior (which are easier to obtain than posterior)"
   ]
  },
  {
   "cell_type": "markdown",
   "metadata": {},
   "source": [
    "## Bike Example\n",
    "\n",
    "We saw a teal bike, what brand (standard, veodride) is it? \n",
    "\n",
    "$ P(veo | teal) = \\frac{P(teal | veo) P(veo)}{P(teal)} = 0.905 $\n",
    "\n",
    "$ P(standard | teal) = \\frac{P(teal | standard) P(standard)}{P(teal)} = 0.095 $\n",
    "\n",
    "### Assign Classes\n",
    "\n",
    "$ \\underset{c\\in C_{0}, ..., C_{n}}{\\operatorname{argmax}} P( C_{n} | evidence) $\n",
    "\n",
    "Find the class in which the object most likely belongs to (**maximize posterior**). \n",
    "\n",
    "### Maximum Likelihood Estimate (MLE Estimate)"
   ]
  },
  {
   "cell_type": "markdown",
   "metadata": {},
   "source": [
    "# Bag of Words (Naive Bayes)\n",
    "\n",
    "- Treat words independently\n",
    "    - No phrases (ex. good people, can't recognize \"not x\")\n",
    "    - No word order\n",
    "- Use the word with the highest probability as the class\n",
    "\n",
    "## Steps\n",
    "\n",
    "1. Convert input string to a clean string of words\n",
    "    - Divide at whitespace\n",
    "    - Normalize punctuations (capitalization, wierd characters, ...)\n",
    "    - Put words with the same base together (helping, helped, help)\n",
    "2. Find $ P(w | class) $ and $ P (w | uk) $, perform naive estimate:\n",
    "\n",
    "### Problems: Underflow\n",
    "\n",
    "- All numbers are small\n",
    "    - Each $ P ( w| class) $ is small\n",
    "    - Use multiple passes\n",
    "- Use logs (converts mutliplications to sums)\n",
    "\n",
    "### Problem: Overfitting\n",
    "\n",
    "- Common words should have similar frequencies\n",
    "- Rare words may appear in one set but not the other\n",
    "    - Each one is rare\n",
    "    - Foreign words\n",
    "    - Proper names\n",
    "    \n",
    "#### Smoothing\n",
    "\n",
    "- Give non-zero probability to rare words\n",
    "- Probability mass: probability viewed as stuff\n",
    "    - Way too many methods\n",
    "    - All \"empirical\": not well-backed by theory\n",
    "    \n",
    "##### Laplace Smoothing\n",
    "\n",
    "```\n",
    "n = number of words in our data\n",
    "count(w) = # of times w was seen\n",
    "v = # word types\n",
    "alpha = magic constant (tunable parameter)\n",
    "\n",
    "P(w) = (count(w) + alpha) / (n + alpha (v + 1))\n",
    "P(unk) = (alpha) / (n + alpha (v + 1))\n",
    "```\n",
    "    \n",
    "### Problems When Dealing with Non-English\n",
    "\n",
    "- No space between words: find word segements\n",
    "    - Chinese\n",
    "- Long words: divide up complex words\n",
    "    - German: Winter-coat\n",
    "- Common words: remove, not giving useful information\n",
    "    - Stop word: a, the, in, arm\n",
    "- Very rare words: delete or translate into common place holder, i.e. UNK)\n",
    "    - Hard to measure probabilities\n",
    "    - Lots of them; takes up memory"
   ]
  },
  {
   "cell_type": "markdown",
   "metadata": {},
   "source": [
    "# Data\n",
    "\n",
    "Datas are divided into\n",
    "\n",
    "- Training \n",
    "- Testing\n",
    "- Validation\n",
    "\n",
    "Cares about F1"
   ]
  }
 ],
 "metadata": {
  "kernelspec": {
   "display_name": "Python 3",
   "language": "python",
   "name": "python3"
  },
  "language_info": {
   "codemirror_mode": {
    "name": "ipython",
    "version": 3
   },
   "file_extension": ".py",
   "mimetype": "text/x-python",
   "name": "python",
   "nbconvert_exporter": "python",
   "pygments_lexer": "ipython3",
   "version": "3.7.4"
  }
 },
 "nbformat": 4,
 "nbformat_minor": 2
}
